{
 "metadata": {
  "language_info": {
   "codemirror_mode": {
    "name": "ipython",
    "version": 3
   },
   "file_extension": ".py",
   "mimetype": "text/x-python",
   "name": "python",
   "nbconvert_exporter": "python",
   "pygments_lexer": "ipython3",
   "version": "3.9.2"
  },
  "orig_nbformat": 2,
  "kernelspec": {
   "name": "python392jvsc74a57bd0ac59ebe37160ed0dfa835113d9b8498d9f09ceb179beaac4002f036b9467c963",
   "display_name": "Python 3.9.2 64-bit"
  },
  "metadata": {
   "interpreter": {
    "hash": "ac59ebe37160ed0dfa835113d9b8498d9f09ceb179beaac4002f036b9467c963"
   }
  }
 },
 "nbformat": 4,
 "nbformat_minor": 2,
 "cells": [
  {
   "cell_type": "code",
   "execution_count": 3,
   "metadata": {},
   "outputs": [],
   "source": [
    "import requests\n",
    "import pandas as pd\n",
    "from tqdm import tqdm\n",
    "from os import listdir\n",
    "from datetime import date"
   ]
  },
  {
   "cell_type": "code",
   "execution_count": 4,
   "metadata": {},
   "outputs": [],
   "source": [
    "class MET():\n",
    "    '''A class to extract data from the Metropolitan Museum of Art API.\n",
    "\n",
    "    See more information in: \n",
    "    https://metmuseum.github.io\n",
    "\n",
    "    Attributes\n",
    "    ----------\n",
    "\n",
    "    object_type : str\n",
    "        Name of object type that will be searched\n",
    "\n",
    "    output : str\n",
    "        Output path to the extracted data\n",
    "    '''\n",
    "\n",
    "    def __init__(self, object_type = None, output = None):\n",
    "        self.object_type = object_type\n",
    "        self.output = output\n",
    "\n",
    "    \n",
    "    def extract(self):\n",
    "        '''\n",
    "        Execute the requests to the API to extract the data into an CSV\n",
    "        '''\n",
    "        # Building URL to get object ID list\n",
    "        medium_url = f'https://collectionapi.metmuseum.org/public/collection/v1/search?medium={self.object_type}&q=*'\n",
    "\n",
    "        # Requesting data\n",
    "        resp = requests.get(medium_url)\n",
    "\n",
    "        # Selecting data in JSON       \n",
    "        temp_lst = resp.json()['objectIDs'] \n",
    "        \n",
    "        # Creating empty list to export results\n",
    "        results = []\n",
    "\n",
    "        # Iterating item list id to get all the data\n",
    "        for item in tqdm(temp_lst):\n",
    "\n",
    "            # Building url to get whole object data\n",
    "            object_url = f'https://collectionapi.metmuseum.org/public/collection/v1/objects/{item}'\n",
    "\n",
    "            # Requesting data\n",
    "            resp = requests.get(object_url)\n",
    "\n",
    "            # Selecting data in JSON       \n",
    "            results.append(resp.json())\n",
    "\n",
    "        # Transforming list of JSON into a dataframe\n",
    "        df = pd.json_normalize(results)\n",
    "\n",
    "        # Exporting dataframe in the selected path\n",
    "        df.to_csv(f'{self.output}/MET_{self.object_type}_{date.today()}.csv',index=False)"
   ]
  },
  {
   "cell_type": "code",
   "execution_count": 5,
   "metadata": {},
   "outputs": [
    {
     "output_type": "stream",
     "name": "stderr",
     "text": [
      "100%|██████████| 8102/8102 [1:21:54<00:00,  1.65it/s]\n"
     ]
    }
   ],
   "source": [
    "met = MET('Paintings',output='./Output')\n",
    "met.extract()"
   ]
  }
 ]
}